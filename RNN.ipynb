{
  "nbformat": 4,
  "nbformat_minor": 0,
  "metadata": {
    "colab": {
      "provenance": []
    },
    "kernelspec": {
      "name": "python3",
      "display_name": "Python 3"
    },
    "language_info": {
      "name": "python"
    }
  },
  "cells": [
    {
      "cell_type": "markdown",
      "source": [
        "**Basic RNN structure**"
      ],
      "metadata": {
        "id": "IPCeeFUKovkT"
      }
    },
    {
      "cell_type": "code",
      "source": [
        "#Importing libraries\n",
        "from keras.layers import SimpleRNN\n",
        "from keras import Sequential\n",
        "from keras.layers import Embedding"
      ],
      "metadata": {
        "id": "2RzjM9JWozoR"
      },
      "execution_count": 2,
      "outputs": []
    },
    {
      "cell_type": "code",
      "source": [
        "from tensorflow.keras.datasets import imdb\n",
        "from keras.preprocessing import sequence"
      ],
      "metadata": {
        "id": "5GNwAtQk-wLE"
      },
      "execution_count": 1,
      "outputs": []
    },
    {
      "cell_type": "code",
      "source": [
        "max_features = 10000\n",
        "(input_train, y_train), (input_test, y_test) = imdb.load_data(num_words=max_features)"
      ],
      "metadata": {
        "id": "4V0KRgRw-9zG"
      },
      "execution_count": 5,
      "outputs": []
    },
    {
      "cell_type": "code",
      "source": [
        "maxlen = 500\n",
        "input_train = sequence.pad_sequences(input_train, maxlen = maxlen)\n",
        "input_test = sequence.pad_sequences(input_test, maxlen = maxlen)"
      ],
      "metadata": {
        "id": "5AfElyb9_TU1"
      },
      "execution_count": 6,
      "outputs": []
    },
    {
      "cell_type": "markdown",
      "source": [
        "**Building Architecture**"
      ],
      "metadata": {
        "id": "VJ9ahA2j-q-N"
      }
    },
    {
      "cell_type": "code",
      "source": [
        "model = Sequential()\n",
        "model.add(Embedding(10000, 32))\n",
        "model.add(SimpleRNN(32))\n",
        "model.summary()"
      ],
      "metadata": {
        "colab": {
          "base_uri": "https://localhost:8080/"
        },
        "id": "cvXzKFAho7UP",
        "outputId": "497264ff-4a9e-436b-8d79-326c790395dd"
      },
      "execution_count": 2,
      "outputs": [
        {
          "output_type": "stream",
          "name": "stdout",
          "text": [
            "Model: \"sequential\"\n",
            "_________________________________________________________________\n",
            " Layer (type)                Output Shape              Param #   \n",
            "=================================================================\n",
            " embedding (Embedding)       (None, None, 32)          320000    \n",
            "                                                                 \n",
            " simple_rnn (SimpleRNN)      (None, 32)                2080      \n",
            "                                                                 \n",
            "=================================================================\n",
            "Total params: 322080 (1.23 MB)\n",
            "Trainable params: 322080 (1.23 MB)\n",
            "Non-trainable params: 0 (0.00 Byte)\n",
            "_________________________________________________________________\n"
          ]
        }
      ]
    },
    {
      "cell_type": "code",
      "source": [
        "model = Sequential()\n",
        "model.add(Embedding(10000, 32))\n",
        "model.add(SimpleRNN(32, return_sequences = True))\n",
        "model.add(SimpleRNN(32, return_sequences = True))\n",
        "model.add(SimpleRNN(32, return_sequences = True))\n",
        "model.add(SimpleRNN(32))\n",
        "model.summary()"
      ],
      "metadata": {
        "colab": {
          "base_uri": "https://localhost:8080/"
        },
        "id": "m76Q02QRpKUg",
        "outputId": "0b1e88af-a1a6-47af-c61b-3413d5971a43"
      },
      "execution_count": 7,
      "outputs": [
        {
          "output_type": "stream",
          "name": "stdout",
          "text": [
            "Model: \"sequential\"\n",
            "_________________________________________________________________\n",
            " Layer (type)                Output Shape              Param #   \n",
            "=================================================================\n",
            " embedding (Embedding)       (None, None, 32)          320000    \n",
            "                                                                 \n",
            " simple_rnn (SimpleRNN)      (None, None, 32)          2080      \n",
            "                                                                 \n",
            " simple_rnn_1 (SimpleRNN)    (None, None, 32)          2080      \n",
            "                                                                 \n",
            " simple_rnn_2 (SimpleRNN)    (None, None, 32)          2080      \n",
            "                                                                 \n",
            " simple_rnn_3 (SimpleRNN)    (None, 32)                2080      \n",
            "                                                                 \n",
            "=================================================================\n",
            "Total params: 328320 (1.25 MB)\n",
            "Trainable params: 328320 (1.25 MB)\n",
            "Non-trainable params: 0 (0.00 Byte)\n",
            "_________________________________________________________________\n"
          ]
        }
      ]
    },
    {
      "cell_type": "code",
      "source": [
        "model.compile(loss = 'binary_crossentropy', metrics = ['acc'])"
      ],
      "metadata": {
        "id": "cRIBMvGXpnYT"
      },
      "execution_count": 8,
      "outputs": []
    },
    {
      "cell_type": "code",
      "source": [
        "history = model.fit(input_train, y_train, epochs = 5, batch_size = 128, validation_split = 0.2)"
      ],
      "metadata": {
        "colab": {
          "base_uri": "https://localhost:8080/"
        },
        "id": "TpZGKWD-AHvF",
        "outputId": "8c1d8ad7-e1fc-40d3-ea29-8e3427c80735"
      },
      "execution_count": 10,
      "outputs": [
        {
          "output_type": "stream",
          "name": "stdout",
          "text": [
            "Epoch 1/5\n",
            "157/157 [==============================] - 123s 783ms/step - loss: 1.0294 - acc: 0.0226 - val_loss: 1.4598 - val_acc: 0.0044\n",
            "Epoch 2/5\n",
            "157/157 [==============================] - 110s 702ms/step - loss: 0.9130 - acc: 0.0080 - val_loss: 1.3486 - val_acc: 0.0172\n",
            "Epoch 3/5\n",
            "157/157 [==============================] - 121s 767ms/step - loss: 0.8556 - acc: 0.0082 - val_loss: 1.4800 - val_acc: 0.0112\n",
            "Epoch 4/5\n",
            "157/157 [==============================] - 105s 665ms/step - loss: 0.5756 - acc: 0.0032 - val_loss: 2.7864 - val_acc: 0.0116\n",
            "Epoch 5/5\n",
            "157/157 [==============================] - 115s 734ms/step - loss: 0.5520 - acc: 8.0000e-04 - val_loss: 1.5579 - val_acc: 0.0050\n"
          ]
        }
      ]
    },
    {
      "cell_type": "code",
      "source": [
        "import matplotlib.pyplot as plt\n",
        "epochs = range(1, len(history.history['acc'])+1)\n",
        "plt.plot(epochs, history.history['acc'], 'bo', label = 'Training acc')\n",
        "plt.plot(epochs, history.history['val_acc'], 'b', label = 'Validation accuracy')\n",
        "plt.title('Training and validation accuracy')\n",
        "plt.legend()"
      ],
      "metadata": {
        "colab": {
          "base_uri": "https://localhost:8080/",
          "height": 470
        },
        "id": "q7AvGvrnAPvL",
        "outputId": "70e1c169-f621-4913-bd12-71b756530490"
      },
      "execution_count": 14,
      "outputs": [
        {
          "output_type": "execute_result",
          "data": {
            "text/plain": [
              "<matplotlib.legend.Legend at 0x7f1456c4b220>"
            ]
          },
          "metadata": {},
          "execution_count": 14
        },
        {
          "output_type": "display_data",
          "data": {
            "text/plain": [
              "<Figure size 640x480 with 1 Axes>"
            ],
            "image/png": "[encoded data removed]"
          },
          "metadata": {}
        }
      ]
    },
    {
      "cell_type": "code",
      "source": [],
      "metadata": {
        "id": "8XxqU7qzG1uT"
      },
      "execution_count": null,
      "outputs": []
    }
  ]
}